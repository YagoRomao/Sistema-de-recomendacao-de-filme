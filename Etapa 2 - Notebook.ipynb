{
 "cells": [
  {
   "cell_type": "code",
   "execution_count": 1,
   "metadata": {},
   "outputs": [
    {
     "name": "stdout",
     "output_type": "stream",
     "text": [
      "Requirement already satisfied: tmdbv3api in c:\\users\\yagor\\miniconda3\\envs\\myenv\\lib\\site-packages (1.7.7)\n",
      "Requirement already satisfied: requests in c:\\users\\yagor\\miniconda3\\envs\\myenv\\lib\\site-packages (from tmdbv3api) (2.28.1)\n",
      "Requirement already satisfied: charset-normalizer<3,>=2 in c:\\users\\yagor\\miniconda3\\envs\\myenv\\lib\\site-packages (from requests->tmdbv3api) (2.0.4)\n",
      "Requirement already satisfied: urllib3<1.27,>=1.21.1 in c:\\users\\yagor\\miniconda3\\envs\\myenv\\lib\\site-packages (from requests->tmdbv3api) (1.26.13)\n",
      "Requirement already satisfied: idna<4,>=2.5 in c:\\users\\yagor\\miniconda3\\envs\\myenv\\lib\\site-packages (from requests->tmdbv3api) (3.4)\n",
      "Requirement already satisfied: certifi>=2017.4.17 in c:\\users\\yagor\\miniconda3\\envs\\myenv\\lib\\site-packages (from requests->tmdbv3api) (2022.12.7)\n",
      "Note: you may need to restart the kernel to use updated packages.\n"
     ]
    }
   ],
   "source": [
    "pip install tmdbv3api"
   ]
  },
  {
   "cell_type": "code",
   "execution_count": 2,
   "metadata": {},
   "outputs": [],
   "source": [
    "# Nesse notebook realizamos as requisições da API TMDB para buscar os filmes já produzidos.\n",
    "# Ao final, exportamos o dataframe gerado em um arquivo CSV, para serem utilizados nas etapas seguintes.\n",
    "#Manipulação de dados\n",
    "import pandas as pd\n",
    "\n",
    "#Requisição da API\n",
    "import requests\n",
    "from tmdbv3api import Movie, TMDb\n",
    "\n",
    "#Tratamento do JSON\n",
    "import json\n"
   ]
  },
  {
   "cell_type": "code",
   "execution_count": 3,
   "metadata": {},
   "outputs": [],
   "source": [
    "tmdb = TMDb()\n",
    "tmdb_movie = Movie()\n",
    "tmdb.api_key = 'd432f6c8a0f782815df6523ecd18dd9a'"
   ]
  },
  {
   "cell_type": "code",
   "execution_count": 4,
   "metadata": {},
   "outputs": [
    {
     "name": "stderr",
     "output_type": "stream",
     "text": [
      "C:\\Users\\yagor\\AppData\\Local\\Temp\\ipykernel_16668\\1455398152.py:1: DtypeWarning: Columns (10) have mixed types. Specify dtype option on import or set low_memory=False.\n",
      "  df = pd.read_csv (\"movies_metadata.csv\")\n"
     ]
    }
   ],
   "source": [
    "df = pd.read_csv (\"movies_metadata.csv\")\n"
   ]
  },
  {
   "cell_type": "code",
   "execution_count": 5,
   "metadata": {},
   "outputs": [
    {
     "data": {
      "text/html": [
       "<div>\n",
       "<style scoped>\n",
       "    .dataframe tbody tr th:only-of-type {\n",
       "        vertical-align: middle;\n",
       "    }\n",
       "\n",
       "    .dataframe tbody tr th {\n",
       "        vertical-align: top;\n",
       "    }\n",
       "\n",
       "    .dataframe thead th {\n",
       "        text-align: right;\n",
       "    }\n",
       "</style>\n",
       "<table border=\"1\" class=\"dataframe\">\n",
       "  <thead>\n",
       "    <tr style=\"text-align: right;\">\n",
       "      <th></th>\n",
       "      <th>adult</th>\n",
       "      <th>belongs_to_collection</th>\n",
       "      <th>budget</th>\n",
       "      <th>genres</th>\n",
       "      <th>homepage</th>\n",
       "      <th>id</th>\n",
       "      <th>imdb_id</th>\n",
       "      <th>original_language</th>\n",
       "      <th>original_title</th>\n",
       "      <th>overview</th>\n",
       "      <th>...</th>\n",
       "      <th>release_date</th>\n",
       "      <th>revenue</th>\n",
       "      <th>runtime</th>\n",
       "      <th>spoken_languages</th>\n",
       "      <th>status</th>\n",
       "      <th>tagline</th>\n",
       "      <th>title</th>\n",
       "      <th>video</th>\n",
       "      <th>vote_average</th>\n",
       "      <th>vote_count</th>\n",
       "    </tr>\n",
       "  </thead>\n",
       "  <tbody>\n",
       "    <tr>\n",
       "      <th>0</th>\n",
       "      <td>False</td>\n",
       "      <td>{'id': 10194, 'name': 'Toy Story Collection', ...</td>\n",
       "      <td>30000000</td>\n",
       "      <td>[{'id': 16, 'name': 'Animation'}, {'id': 35, '...</td>\n",
       "      <td>http://toystory.disney.com/toy-story</td>\n",
       "      <td>862</td>\n",
       "      <td>tt0114709</td>\n",
       "      <td>en</td>\n",
       "      <td>Toy Story</td>\n",
       "      <td>Led by Woody, Andy's toys live happily in his ...</td>\n",
       "      <td>...</td>\n",
       "      <td>1995-10-30</td>\n",
       "      <td>373554033.0</td>\n",
       "      <td>81.0</td>\n",
       "      <td>[{'iso_639_1': 'en', 'name': 'English'}]</td>\n",
       "      <td>Released</td>\n",
       "      <td>NaN</td>\n",
       "      <td>Toy Story</td>\n",
       "      <td>False</td>\n",
       "      <td>7.7</td>\n",
       "      <td>5415.0</td>\n",
       "    </tr>\n",
       "  </tbody>\n",
       "</table>\n",
       "<p>1 rows × 24 columns</p>\n",
       "</div>"
      ],
      "text/plain": [
       "   adult                              belongs_to_collection    budget  \\\n",
       "0  False  {'id': 10194, 'name': 'Toy Story Collection', ...  30000000   \n",
       "\n",
       "                                              genres  \\\n",
       "0  [{'id': 16, 'name': 'Animation'}, {'id': 35, '...   \n",
       "\n",
       "                               homepage   id    imdb_id original_language  \\\n",
       "0  http://toystory.disney.com/toy-story  862  tt0114709                en   \n",
       "\n",
       "  original_title                                           overview  ...  \\\n",
       "0      Toy Story  Led by Woody, Andy's toys live happily in his ...  ...   \n",
       "\n",
       "  release_date      revenue runtime                          spoken_languages  \\\n",
       "0   1995-10-30  373554033.0    81.0  [{'iso_639_1': 'en', 'name': 'English'}]   \n",
       "\n",
       "     status  tagline      title  video vote_average vote_count  \n",
       "0  Released      NaN  Toy Story  False          7.7     5415.0  \n",
       "\n",
       "[1 rows x 24 columns]"
      ]
     },
     "execution_count": 5,
     "metadata": {},
     "output_type": "execute_result"
    }
   ],
   "source": [
    "df.head(1)"
   ]
  },
  {
   "cell_type": "code",
   "execution_count": 6,
   "metadata": {},
   "outputs": [
    {
     "data": {
      "text/plain": [
       "(45466, 24)"
      ]
     },
     "execution_count": 6,
     "metadata": {},
     "output_type": "execute_result"
    }
   ],
   "source": [
    "df.shape\n"
   ]
  },
  {
   "cell_type": "code",
   "execution_count": 7,
   "metadata": {},
   "outputs": [
    {
     "data": {
      "text/html": [
       "<div>\n",
       "<style scoped>\n",
       "    .dataframe tbody tr th:only-of-type {\n",
       "        vertical-align: middle;\n",
       "    }\n",
       "\n",
       "    .dataframe tbody tr th {\n",
       "        vertical-align: top;\n",
       "    }\n",
       "\n",
       "    .dataframe thead th {\n",
       "        text-align: right;\n",
       "    }\n",
       "</style>\n",
       "<table border=\"1\" class=\"dataframe\">\n",
       "  <thead>\n",
       "    <tr style=\"text-align: right;\">\n",
       "      <th></th>\n",
       "      <th>adult</th>\n",
       "      <th>belongs_to_collection</th>\n",
       "      <th>budget</th>\n",
       "      <th>genres</th>\n",
       "      <th>homepage</th>\n",
       "      <th>id</th>\n",
       "      <th>imdb_id</th>\n",
       "      <th>original_language</th>\n",
       "      <th>original_title</th>\n",
       "      <th>overview</th>\n",
       "      <th>...</th>\n",
       "      <th>release_date</th>\n",
       "      <th>revenue</th>\n",
       "      <th>runtime</th>\n",
       "      <th>spoken_languages</th>\n",
       "      <th>status</th>\n",
       "      <th>tagline</th>\n",
       "      <th>title</th>\n",
       "      <th>video</th>\n",
       "      <th>vote_average</th>\n",
       "      <th>vote_count</th>\n",
       "    </tr>\n",
       "  </thead>\n",
       "  <tbody>\n",
       "    <tr>\n",
       "      <th>45465</th>\n",
       "      <td>False</td>\n",
       "      <td>NaN</td>\n",
       "      <td>0</td>\n",
       "      <td>[]</td>\n",
       "      <td>NaN</td>\n",
       "      <td>461257</td>\n",
       "      <td>tt6980792</td>\n",
       "      <td>en</td>\n",
       "      <td>Queerama</td>\n",
       "      <td>50 years after decriminalisation of homosexual...</td>\n",
       "      <td>...</td>\n",
       "      <td>2017-06-09</td>\n",
       "      <td>0.0</td>\n",
       "      <td>75.0</td>\n",
       "      <td>[{'iso_639_1': 'en', 'name': 'English'}]</td>\n",
       "      <td>Released</td>\n",
       "      <td>NaN</td>\n",
       "      <td>Queerama</td>\n",
       "      <td>False</td>\n",
       "      <td>0.0</td>\n",
       "      <td>0.0</td>\n",
       "    </tr>\n",
       "  </tbody>\n",
       "</table>\n",
       "<p>1 rows × 24 columns</p>\n",
       "</div>"
      ],
      "text/plain": [
       "       adult belongs_to_collection budget genres homepage      id    imdb_id  \\\n",
       "45465  False                   NaN      0     []      NaN  461257  tt6980792   \n",
       "\n",
       "      original_language original_title  \\\n",
       "45465                en       Queerama   \n",
       "\n",
       "                                                overview  ... release_date  \\\n",
       "45465  50 years after decriminalisation of homosexual...  ...   2017-06-09   \n",
       "\n",
       "      revenue runtime                          spoken_languages    status  \\\n",
       "45465     0.0    75.0  [{'iso_639_1': 'en', 'name': 'English'}]  Released   \n",
       "\n",
       "       tagline     title  video vote_average vote_count  \n",
       "45465      NaN  Queerama  False          0.0        0.0  \n",
       "\n",
       "[1 rows x 24 columns]"
      ]
     },
     "execution_count": 7,
     "metadata": {},
     "output_type": "execute_result"
    }
   ],
   "source": [
    "df.tail(1)"
   ]
  },
  {
   "attachments": {},
   "cell_type": "markdown",
   "metadata": {},
   "source": [
    "### Filmes de 2018"
   ]
  },
  {
   "cell_type": "code",
   "execution_count": 8,
   "metadata": {},
   "outputs": [],
   "source": [
    "url_2018 = \"https://en.wikipedia.org/wiki/List_of_American_films_of_2018\""
   ]
  },
  {
   "cell_type": "code",
   "execution_count": 9,
   "metadata": {},
   "outputs": [],
   "source": [
    "df1 = pd.read_html(url_2018, header=0) [2]\n",
    "df2 = pd.read_html(url_2018, header=0) [3]\n",
    "df3 = pd.read_html(url_2018, header=0) [4]\n",
    "df4 = pd.read_html(url_2018, header=0) [5]"
   ]
  },
  {
   "cell_type": "code",
   "execution_count": 10,
   "metadata": {},
   "outputs": [
    {
     "data": {
      "text/html": [
       "<div>\n",
       "<style scoped>\n",
       "    .dataframe tbody tr th:only-of-type {\n",
       "        vertical-align: middle;\n",
       "    }\n",
       "\n",
       "    .dataframe tbody tr th {\n",
       "        vertical-align: top;\n",
       "    }\n",
       "\n",
       "    .dataframe thead th {\n",
       "        text-align: right;\n",
       "    }\n",
       "</style>\n",
       "<table border=\"1\" class=\"dataframe\">\n",
       "  <thead>\n",
       "    <tr style=\"text-align: right;\">\n",
       "      <th></th>\n",
       "      <th>Opening</th>\n",
       "      <th>Opening.1</th>\n",
       "      <th>Title</th>\n",
       "      <th>Production company</th>\n",
       "      <th>Cast and crew</th>\n",
       "      <th>Ref.</th>\n",
       "    </tr>\n",
       "  </thead>\n",
       "  <tbody>\n",
       "    <tr>\n",
       "      <th>0</th>\n",
       "      <td>O C T O B E R</td>\n",
       "      <td>2</td>\n",
       "      <td>Power of the Air</td>\n",
       "      <td>Five &amp; Two Pictures</td>\n",
       "      <td>Dave Christiano (director/screenplay); Nichola...</td>\n",
       "      <td>[203]</td>\n",
       "    </tr>\n",
       "    <tr>\n",
       "      <th>1</th>\n",
       "      <td>O C T O B E R</td>\n",
       "      <td>5</td>\n",
       "      <td>Venom</td>\n",
       "      <td>Columbia Pictures / Marvel Entertainment</td>\n",
       "      <td>Ruben Fleischer (director); Jeff Pinkner, Scot...</td>\n",
       "      <td>[204]</td>\n",
       "    </tr>\n",
       "    <tr>\n",
       "      <th>2</th>\n",
       "      <td>O C T O B E R</td>\n",
       "      <td>5</td>\n",
       "      <td>A Star Is Born</td>\n",
       "      <td>Warner Bros. Pictures</td>\n",
       "      <td>Bradley Cooper (director/screenplay); Eric Rot...</td>\n",
       "      <td>[205]</td>\n",
       "    </tr>\n",
       "    <tr>\n",
       "      <th>3</th>\n",
       "      <td>O C T O B E R</td>\n",
       "      <td>5</td>\n",
       "      <td>The Great Buster: A Celebration</td>\n",
       "      <td>Cohen Media Group</td>\n",
       "      <td>Peter Bogdanovich (director)</td>\n",
       "      <td>[206]</td>\n",
       "    </tr>\n",
       "    <tr>\n",
       "      <th>4</th>\n",
       "      <td>O C T O B E R</td>\n",
       "      <td>10</td>\n",
       "      <td>The Happy Prince</td>\n",
       "      <td>Sony Pictures Classics</td>\n",
       "      <td>Rupert Everett (director/screenplay); Rupert E...</td>\n",
       "      <td>[207]</td>\n",
       "    </tr>\n",
       "  </tbody>\n",
       "</table>\n",
       "</div>"
      ],
      "text/plain": [
       "         Opening  Opening.1                            Title  \\\n",
       "0  O C T O B E R          2                 Power of the Air   \n",
       "1  O C T O B E R          5                            Venom   \n",
       "2  O C T O B E R          5                   A Star Is Born   \n",
       "3  O C T O B E R          5  The Great Buster: A Celebration   \n",
       "4  O C T O B E R         10                 The Happy Prince   \n",
       "\n",
       "                         Production company  \\\n",
       "0                       Five & Two Pictures   \n",
       "1  Columbia Pictures / Marvel Entertainment   \n",
       "2                     Warner Bros. Pictures   \n",
       "3                         Cohen Media Group   \n",
       "4                    Sony Pictures Classics   \n",
       "\n",
       "                                       Cast and crew   Ref.  \n",
       "0  Dave Christiano (director/screenplay); Nichola...  [203]  \n",
       "1  Ruben Fleischer (director); Jeff Pinkner, Scot...  [204]  \n",
       "2  Bradley Cooper (director/screenplay); Eric Rot...  [205]  \n",
       "3                       Peter Bogdanovich (director)  [206]  \n",
       "4  Rupert Everett (director/screenplay); Rupert E...  [207]  "
      ]
     },
     "execution_count": 10,
     "metadata": {},
     "output_type": "execute_result"
    }
   ],
   "source": [
    "df4.head()"
   ]
  },
  {
   "cell_type": "code",
   "execution_count": 11,
   "metadata": {},
   "outputs": [
    {
     "name": "stderr",
     "output_type": "stream",
     "text": [
      "C:\\Users\\yagor\\AppData\\Local\\Temp\\ipykernel_16668\\3630782862.py:1: FutureWarning: The frame.append method is deprecated and will be removed from pandas in a future version. Use pandas.concat instead.\n",
      "  df_2018 = df1.append(df2.append(df3.append(df4, ignore_index=True), ignore_index=True), ignore_index=True)\n"
     ]
    }
   ],
   "source": [
    "df_2018 = df1.append(df2.append(df3.append(df4, ignore_index=True), ignore_index=True), ignore_index=True)"
   ]
  },
  {
   "cell_type": "code",
   "execution_count": 12,
   "metadata": {},
   "outputs": [
    {
     "data": {
      "text/html": [
       "<div>\n",
       "<style scoped>\n",
       "    .dataframe tbody tr th:only-of-type {\n",
       "        vertical-align: middle;\n",
       "    }\n",
       "\n",
       "    .dataframe tbody tr th {\n",
       "        vertical-align: top;\n",
       "    }\n",
       "\n",
       "    .dataframe thead th {\n",
       "        text-align: right;\n",
       "    }\n",
       "</style>\n",
       "<table border=\"1\" class=\"dataframe\">\n",
       "  <thead>\n",
       "    <tr style=\"text-align: right;\">\n",
       "      <th></th>\n",
       "      <th>Opening</th>\n",
       "      <th>Opening.1</th>\n",
       "      <th>Title</th>\n",
       "      <th>Production company</th>\n",
       "      <th>Cast and crew</th>\n",
       "      <th>.mw-parser-output .tooltip-dotted{border-bottom:1px dotted;cursor:help}Ref.</th>\n",
       "      <th>Ref.</th>\n",
       "    </tr>\n",
       "  </thead>\n",
       "  <tbody>\n",
       "    <tr>\n",
       "      <th>0</th>\n",
       "      <td>J A N U A R Y</td>\n",
       "      <td>5</td>\n",
       "      <td>Insidious: The Last Key</td>\n",
       "      <td>Universal Pictures / Blumhouse Productions / S...</td>\n",
       "      <td>Adam Robitel (director); Leigh Whannell (scree...</td>\n",
       "      <td>[2]</td>\n",
       "      <td>NaN</td>\n",
       "    </tr>\n",
       "    <tr>\n",
       "      <th>1</th>\n",
       "      <td>J A N U A R Y</td>\n",
       "      <td>5</td>\n",
       "      <td>The Strange Ones</td>\n",
       "      <td>Vertical Entertainment</td>\n",
       "      <td>Lauren Wolkstein (director); Christopher Radcl...</td>\n",
       "      <td>[3]</td>\n",
       "      <td>NaN</td>\n",
       "    </tr>\n",
       "    <tr>\n",
       "      <th>2</th>\n",
       "      <td>J A N U A R Y</td>\n",
       "      <td>5</td>\n",
       "      <td>Stratton</td>\n",
       "      <td>Momentum Pictures</td>\n",
       "      <td>Simon West (director); Duncan Falconer, Warren...</td>\n",
       "      <td>[4]</td>\n",
       "      <td>NaN</td>\n",
       "    </tr>\n",
       "    <tr>\n",
       "      <th>3</th>\n",
       "      <td>J A N U A R Y</td>\n",
       "      <td>10</td>\n",
       "      <td>Sweet Country</td>\n",
       "      <td>Samuel Goldwyn Films</td>\n",
       "      <td>Warwick Thornton (director); David Tranter, St...</td>\n",
       "      <td>[5]</td>\n",
       "      <td>NaN</td>\n",
       "    </tr>\n",
       "    <tr>\n",
       "      <th>4</th>\n",
       "      <td>J A N U A R Y</td>\n",
       "      <td>12</td>\n",
       "      <td>The Commuter</td>\n",
       "      <td>Lionsgate / StudioCanal / The Picture Company</td>\n",
       "      <td>Jaume Collet-Serra (director); Byron Willinger...</td>\n",
       "      <td>[6]</td>\n",
       "      <td>NaN</td>\n",
       "    </tr>\n",
       "  </tbody>\n",
       "</table>\n",
       "</div>"
      ],
      "text/plain": [
       "         Opening  Opening.1                    Title  \\\n",
       "0  J A N U A R Y          5  Insidious: The Last Key   \n",
       "1  J A N U A R Y          5         The Strange Ones   \n",
       "2  J A N U A R Y          5                 Stratton   \n",
       "3  J A N U A R Y         10            Sweet Country   \n",
       "4  J A N U A R Y         12             The Commuter   \n",
       "\n",
       "                                  Production company  \\\n",
       "0  Universal Pictures / Blumhouse Productions / S...   \n",
       "1                             Vertical Entertainment   \n",
       "2                                  Momentum Pictures   \n",
       "3                               Samuel Goldwyn Films   \n",
       "4      Lionsgate / StudioCanal / The Picture Company   \n",
       "\n",
       "                                       Cast and crew  \\\n",
       "0  Adam Robitel (director); Leigh Whannell (scree...   \n",
       "1  Lauren Wolkstein (director); Christopher Radcl...   \n",
       "2  Simon West (director); Duncan Falconer, Warren...   \n",
       "3  Warwick Thornton (director); David Tranter, St...   \n",
       "4  Jaume Collet-Serra (director); Byron Willinger...   \n",
       "\n",
       "  .mw-parser-output .tooltip-dotted{border-bottom:1px dotted;cursor:help}Ref.  \\\n",
       "0                                                [2]                            \n",
       "1                                                [3]                            \n",
       "2                                                [4]                            \n",
       "3                                                [5]                            \n",
       "4                                                [6]                            \n",
       "\n",
       "  Ref.  \n",
       "0  NaN  \n",
       "1  NaN  \n",
       "2  NaN  \n",
       "3  NaN  \n",
       "4  NaN  "
      ]
     },
     "execution_count": 12,
     "metadata": {},
     "output_type": "execute_result"
    }
   ],
   "source": [
    "df_2018.head()"
   ]
  },
  {
   "cell_type": "code",
   "execution_count": 13,
   "metadata": {},
   "outputs": [
    {
     "data": {
      "text/html": [
       "<div>\n",
       "<style scoped>\n",
       "    .dataframe tbody tr th:only-of-type {\n",
       "        vertical-align: middle;\n",
       "    }\n",
       "\n",
       "    .dataframe tbody tr th {\n",
       "        vertical-align: top;\n",
       "    }\n",
       "\n",
       "    .dataframe thead th {\n",
       "        text-align: right;\n",
       "    }\n",
       "</style>\n",
       "<table border=\"1\" class=\"dataframe\">\n",
       "  <thead>\n",
       "    <tr style=\"text-align: right;\">\n",
       "      <th></th>\n",
       "      <th>Opening</th>\n",
       "      <th>Opening.1</th>\n",
       "      <th>Title</th>\n",
       "      <th>Production company</th>\n",
       "      <th>Cast and crew</th>\n",
       "      <th>.mw-parser-output .tooltip-dotted{border-bottom:1px dotted;cursor:help}Ref.</th>\n",
       "      <th>Ref.</th>\n",
       "    </tr>\n",
       "  </thead>\n",
       "  <tbody>\n",
       "    <tr>\n",
       "      <th>269</th>\n",
       "      <td>D E C E M B E R</td>\n",
       "      <td>25</td>\n",
       "      <td>Holmes &amp; Watson</td>\n",
       "      <td>Columbia Pictures / Gary Sanchez Productions</td>\n",
       "      <td>Etan Cohen (director/screenplay); Will Ferrell...</td>\n",
       "      <td>NaN</td>\n",
       "      <td>[164]</td>\n",
       "    </tr>\n",
       "    <tr>\n",
       "      <th>270</th>\n",
       "      <td>D E C E M B E R</td>\n",
       "      <td>25</td>\n",
       "      <td>Vice</td>\n",
       "      <td>Annapurna Pictures / Plan B Entertainment</td>\n",
       "      <td>Adam McKay (director/screenplay); Christian Ba...</td>\n",
       "      <td>NaN</td>\n",
       "      <td>[137]</td>\n",
       "    </tr>\n",
       "    <tr>\n",
       "      <th>271</th>\n",
       "      <td>D E C E M B E R</td>\n",
       "      <td>25</td>\n",
       "      <td>On the Basis of Sex</td>\n",
       "      <td>Focus Features</td>\n",
       "      <td>Mimi Leder (director); Daniel Stiepleman (scre...</td>\n",
       "      <td>NaN</td>\n",
       "      <td>[229]</td>\n",
       "    </tr>\n",
       "    <tr>\n",
       "      <th>272</th>\n",
       "      <td>D E C E M B E R</td>\n",
       "      <td>25</td>\n",
       "      <td>Destroyer</td>\n",
       "      <td>Annapurna Pictures</td>\n",
       "      <td>Karyn Kusama (director); Phil Hay, Matt Manfre...</td>\n",
       "      <td>NaN</td>\n",
       "      <td>[262]</td>\n",
       "    </tr>\n",
       "    <tr>\n",
       "      <th>273</th>\n",
       "      <td>D E C E M B E R</td>\n",
       "      <td>28</td>\n",
       "      <td>Black Mirror: Bandersnatch</td>\n",
       "      <td>Netflix</td>\n",
       "      <td>David Slade (director); Charlie Brooker (scree...</td>\n",
       "      <td>NaN</td>\n",
       "      <td>[263]</td>\n",
       "    </tr>\n",
       "  </tbody>\n",
       "</table>\n",
       "</div>"
      ],
      "text/plain": [
       "             Opening  Opening.1                       Title  \\\n",
       "269  D E C E M B E R         25             Holmes & Watson   \n",
       "270  D E C E M B E R         25                        Vice   \n",
       "271  D E C E M B E R         25         On the Basis of Sex   \n",
       "272  D E C E M B E R         25                   Destroyer   \n",
       "273  D E C E M B E R         28  Black Mirror: Bandersnatch   \n",
       "\n",
       "                               Production company  \\\n",
       "269  Columbia Pictures / Gary Sanchez Productions   \n",
       "270     Annapurna Pictures / Plan B Entertainment   \n",
       "271                                Focus Features   \n",
       "272                            Annapurna Pictures   \n",
       "273                                       Netflix   \n",
       "\n",
       "                                         Cast and crew  \\\n",
       "269  Etan Cohen (director/screenplay); Will Ferrell...   \n",
       "270  Adam McKay (director/screenplay); Christian Ba...   \n",
       "271  Mimi Leder (director); Daniel Stiepleman (scre...   \n",
       "272  Karyn Kusama (director); Phil Hay, Matt Manfre...   \n",
       "273  David Slade (director); Charlie Brooker (scree...   \n",
       "\n",
       "    .mw-parser-output .tooltip-dotted{border-bottom:1px dotted;cursor:help}Ref.  \\\n",
       "269                                                NaN                            \n",
       "270                                                NaN                            \n",
       "271                                                NaN                            \n",
       "272                                                NaN                            \n",
       "273                                                NaN                            \n",
       "\n",
       "      Ref.  \n",
       "269  [164]  \n",
       "270  [137]  \n",
       "271  [229]  \n",
       "272  [262]  \n",
       "273  [263]  "
      ]
     },
     "execution_count": 13,
     "metadata": {},
     "output_type": "execute_result"
    }
   ],
   "source": [
    "df_2018.tail()"
   ]
  },
  {
   "cell_type": "code",
   "execution_count": 14,
   "metadata": {},
   "outputs": [],
   "source": [
    "df_2018 = df_2018.filter([\"Title\", \"Opening\"], axis = 1)"
   ]
  },
  {
   "cell_type": "code",
   "execution_count": 15,
   "metadata": {},
   "outputs": [
    {
     "data": {
      "text/html": [
       "<div>\n",
       "<style scoped>\n",
       "    .dataframe tbody tr th:only-of-type {\n",
       "        vertical-align: middle;\n",
       "    }\n",
       "\n",
       "    .dataframe tbody tr th {\n",
       "        vertical-align: top;\n",
       "    }\n",
       "\n",
       "    .dataframe thead th {\n",
       "        text-align: right;\n",
       "    }\n",
       "</style>\n",
       "<table border=\"1\" class=\"dataframe\">\n",
       "  <thead>\n",
       "    <tr style=\"text-align: right;\">\n",
       "      <th></th>\n",
       "      <th>Title</th>\n",
       "      <th>Opening</th>\n",
       "    </tr>\n",
       "  </thead>\n",
       "  <tbody>\n",
       "    <tr>\n",
       "      <th>0</th>\n",
       "      <td>Insidious: The Last Key</td>\n",
       "      <td>J A N U A R Y</td>\n",
       "    </tr>\n",
       "    <tr>\n",
       "      <th>1</th>\n",
       "      <td>The Strange Ones</td>\n",
       "      <td>J A N U A R Y</td>\n",
       "    </tr>\n",
       "    <tr>\n",
       "      <th>2</th>\n",
       "      <td>Stratton</td>\n",
       "      <td>J A N U A R Y</td>\n",
       "    </tr>\n",
       "    <tr>\n",
       "      <th>3</th>\n",
       "      <td>Sweet Country</td>\n",
       "      <td>J A N U A R Y</td>\n",
       "    </tr>\n",
       "    <tr>\n",
       "      <th>4</th>\n",
       "      <td>The Commuter</td>\n",
       "      <td>J A N U A R Y</td>\n",
       "    </tr>\n",
       "  </tbody>\n",
       "</table>\n",
       "</div>"
      ],
      "text/plain": [
       "                     Title        Opening\n",
       "0  Insidious: The Last Key  J A N U A R Y\n",
       "1         The Strange Ones  J A N U A R Y\n",
       "2                 Stratton  J A N U A R Y\n",
       "3            Sweet Country  J A N U A R Y\n",
       "4             The Commuter  J A N U A R Y"
      ]
     },
     "execution_count": 15,
     "metadata": {},
     "output_type": "execute_result"
    }
   ],
   "source": [
    "df_2018.head()"
   ]
  },
  {
   "cell_type": "code",
   "execution_count": 16,
   "metadata": {},
   "outputs": [
    {
     "data": {
      "text/plain": [
       "(274, 2)"
      ]
     },
     "execution_count": 16,
     "metadata": {},
     "output_type": "execute_result"
    }
   ],
   "source": [
    "df_2018.shape"
   ]
  },
  {
   "cell_type": "code",
   "execution_count": 17,
   "metadata": {},
   "outputs": [],
   "source": [
    "def get_id_movie_2018(title_movie):\n",
    "    result = tmdb_movie.search(title_movie)\n",
    "    movie_id = result[0].id\n",
    "    return movie_id"
   ]
  },
  {
   "cell_type": "code",
   "execution_count": 18,
   "metadata": {},
   "outputs": [],
   "source": [
    "df_2018[\"id\"] = df_2018[\"Title\"].map(lambda x: get_id_movie_2018(str(x)))"
   ]
  },
  {
   "cell_type": "code",
   "execution_count": 19,
   "metadata": {},
   "outputs": [
    {
     "data": {
      "text/html": [
       "<div>\n",
       "<style scoped>\n",
       "    .dataframe tbody tr th:only-of-type {\n",
       "        vertical-align: middle;\n",
       "    }\n",
       "\n",
       "    .dataframe tbody tr th {\n",
       "        vertical-align: top;\n",
       "    }\n",
       "\n",
       "    .dataframe thead th {\n",
       "        text-align: right;\n",
       "    }\n",
       "</style>\n",
       "<table border=\"1\" class=\"dataframe\">\n",
       "  <thead>\n",
       "    <tr style=\"text-align: right;\">\n",
       "      <th></th>\n",
       "      <th>Title</th>\n",
       "      <th>Opening</th>\n",
       "      <th>id</th>\n",
       "    </tr>\n",
       "  </thead>\n",
       "  <tbody>\n",
       "    <tr>\n",
       "      <th>0</th>\n",
       "      <td>Insidious: The Last Key</td>\n",
       "      <td>J A N U A R Y</td>\n",
       "      <td>406563</td>\n",
       "    </tr>\n",
       "    <tr>\n",
       "      <th>1</th>\n",
       "      <td>The Strange Ones</td>\n",
       "      <td>J A N U A R Y</td>\n",
       "      <td>426258</td>\n",
       "    </tr>\n",
       "    <tr>\n",
       "      <th>2</th>\n",
       "      <td>Stratton</td>\n",
       "      <td>J A N U A R Y</td>\n",
       "      <td>348389</td>\n",
       "    </tr>\n",
       "    <tr>\n",
       "      <th>3</th>\n",
       "      <td>Sweet Country</td>\n",
       "      <td>J A N U A R Y</td>\n",
       "      <td>468210</td>\n",
       "    </tr>\n",
       "    <tr>\n",
       "      <th>4</th>\n",
       "      <td>The Commuter</td>\n",
       "      <td>J A N U A R Y</td>\n",
       "      <td>399035</td>\n",
       "    </tr>\n",
       "  </tbody>\n",
       "</table>\n",
       "</div>"
      ],
      "text/plain": [
       "                     Title        Opening      id\n",
       "0  Insidious: The Last Key  J A N U A R Y  406563\n",
       "1         The Strange Ones  J A N U A R Y  426258\n",
       "2                 Stratton  J A N U A R Y  348389\n",
       "3            Sweet Country  J A N U A R Y  468210\n",
       "4             The Commuter  J A N U A R Y  399035"
      ]
     },
     "execution_count": 19,
     "metadata": {},
     "output_type": "execute_result"
    }
   ],
   "source": [
    "df_2018.head()"
   ]
  },
  {
   "cell_type": "code",
   "execution_count": 20,
   "metadata": {},
   "outputs": [],
   "source": [
    "df_2018.drop(columns=[\"Opening\"], inplace=True)"
   ]
  },
  {
   "cell_type": "code",
   "execution_count": 21,
   "metadata": {},
   "outputs": [],
   "source": [
    "df_2018.rename(columns={\"Title\": \"original_title\"}, inplace=True)"
   ]
  },
  {
   "attachments": {},
   "cell_type": "markdown",
   "metadata": {},
   "source": [
    "### Filmes de 2019"
   ]
  },
  {
   "cell_type": "code",
   "execution_count": 22,
   "metadata": {},
   "outputs": [],
   "source": [
    "url_2019 = \"https://en.wikipedia.org/wiki/List_of_American_films_of_2019\""
   ]
  },
  {
   "cell_type": "code",
   "execution_count": 23,
   "metadata": {},
   "outputs": [],
   "source": [
    "df2019_1 = pd.read_html(url_2019, header=0) [2]\n",
    "df2019_2 = pd.read_html(url_2019, header=0) [3]\n",
    "df2019_3 = pd.read_html(url_2019, header=0) [4]\n",
    "df2019_4 = pd.read_html(url_2019, header=0) [5]"
   ]
  },
  {
   "cell_type": "code",
   "execution_count": 24,
   "metadata": {},
   "outputs": [
    {
     "name": "stderr",
     "output_type": "stream",
     "text": [
      "C:\\Users\\yagor\\AppData\\Local\\Temp\\ipykernel_16668\\1033217725.py:1: FutureWarning: The frame.append method is deprecated and will be removed from pandas in a future version. Use pandas.concat instead.\n",
      "  df_2019 = df2019_1.append(df2019_2.append(df2019_3.append(df2019_4, ignore_index=True), ignore_index=True), ignore_index=True)\n"
     ]
    }
   ],
   "source": [
    "df_2019 = df2019_1.append(df2019_2.append(df2019_3.append(df2019_4, ignore_index=True), ignore_index=True), ignore_index=True)"
   ]
  },
  {
   "cell_type": "code",
   "execution_count": 25,
   "metadata": {},
   "outputs": [],
   "source": [
    "df_2019 = df_2019.filter([\"Title\", \"Opening\"], axis = 1)"
   ]
  },
  {
   "cell_type": "code",
   "execution_count": 26,
   "metadata": {},
   "outputs": [
    {
     "data": {
      "text/plain": [
       "(245, 2)"
      ]
     },
     "execution_count": 26,
     "metadata": {},
     "output_type": "execute_result"
    }
   ],
   "source": [
    "df_2019.shape"
   ]
  },
  {
   "cell_type": "code",
   "execution_count": 27,
   "metadata": {},
   "outputs": [],
   "source": [
    "def get_id_movie_2019(title_movie):\n",
    "    result = tmdb_movie.search(title_movie)\n",
    "    movie_id = result[0].id\n",
    "    return movie_id"
   ]
  },
  {
   "cell_type": "code",
   "execution_count": 28,
   "metadata": {},
   "outputs": [],
   "source": [
    "df_2019[\"id\"] = df_2019[\"Title\"].map(lambda x: get_id_movie_2019(str(x)))"
   ]
  },
  {
   "cell_type": "code",
   "execution_count": null,
   "metadata": {},
   "outputs": [],
   "source": [
    "df_2019.drop(columns=[\"Opening\"], inplace=True)"
   ]
  },
  {
   "cell_type": "code",
   "execution_count": null,
   "metadata": {},
   "outputs": [],
   "source": [
    "df_2019.rename(columns={\"Title\": \"original_title\"}, inplace=True)"
   ]
  },
  {
   "cell_type": "code",
   "execution_count": null,
   "metadata": {},
   "outputs": [
    {
     "data": {
      "text/html": [
       "<div>\n",
       "<style scoped>\n",
       "    .dataframe tbody tr th:only-of-type {\n",
       "        vertical-align: middle;\n",
       "    }\n",
       "\n",
       "    .dataframe tbody tr th {\n",
       "        vertical-align: top;\n",
       "    }\n",
       "\n",
       "    .dataframe thead th {\n",
       "        text-align: right;\n",
       "    }\n",
       "</style>\n",
       "<table border=\"1\" class=\"dataframe\">\n",
       "  <thead>\n",
       "    <tr style=\"text-align: right;\">\n",
       "      <th></th>\n",
       "      <th>original_title</th>\n",
       "      <th>id</th>\n",
       "    </tr>\n",
       "  </thead>\n",
       "  <tbody>\n",
       "    <tr>\n",
       "      <th>0</th>\n",
       "      <td>Escape Room</td>\n",
       "      <td>522681</td>\n",
       "    </tr>\n",
       "    <tr>\n",
       "      <th>1</th>\n",
       "      <td>Rust Creek</td>\n",
       "      <td>561362</td>\n",
       "    </tr>\n",
       "    <tr>\n",
       "      <th>2</th>\n",
       "      <td>American Hangman</td>\n",
       "      <td>567738</td>\n",
       "    </tr>\n",
       "    <tr>\n",
       "      <th>3</th>\n",
       "      <td>A Dog's Way Home</td>\n",
       "      <td>508763</td>\n",
       "    </tr>\n",
       "    <tr>\n",
       "      <th>4</th>\n",
       "      <td>The Upside</td>\n",
       "      <td>440472</td>\n",
       "    </tr>\n",
       "  </tbody>\n",
       "</table>\n",
       "</div>"
      ],
      "text/plain": [
       "     original_title      id\n",
       "0       Escape Room  522681\n",
       "1        Rust Creek  561362\n",
       "2  American Hangman  567738\n",
       "3  A Dog's Way Home  508763\n",
       "4        The Upside  440472"
      ]
     },
     "execution_count": 31,
     "metadata": {},
     "output_type": "execute_result"
    }
   ],
   "source": [
    "df_2019.head()"
   ]
  },
  {
   "attachments": {},
   "cell_type": "markdown",
   "metadata": {},
   "source": [
    "### Filmes de 2020"
   ]
  },
  {
   "cell_type": "code",
   "execution_count": null,
   "metadata": {},
   "outputs": [],
   "source": [
    "url_2020 = \"https://en.wikipedia.org/wiki/List_of_American_films_of_2020\""
   ]
  },
  {
   "cell_type": "code",
   "execution_count": null,
   "metadata": {},
   "outputs": [],
   "source": [
    "df2020_1 = pd.read_html(url_2020, header=0) [2]\n",
    "df2020_2 = pd.read_html(url_2020, header=0) [3]\n",
    "df2020_3 = pd.read_html(url_2020, header=0) [4]\n",
    "df2020_4 = pd.read_html(url_2020, header=0) [5]"
   ]
  },
  {
   "cell_type": "code",
   "execution_count": null,
   "metadata": {},
   "outputs": [
    {
     "data": {
      "text/html": [
       "<div>\n",
       "<style scoped>\n",
       "    .dataframe tbody tr th:only-of-type {\n",
       "        vertical-align: middle;\n",
       "    }\n",
       "\n",
       "    .dataframe tbody tr th {\n",
       "        vertical-align: top;\n",
       "    }\n",
       "\n",
       "    .dataframe thead th {\n",
       "        text-align: right;\n",
       "    }\n",
       "</style>\n",
       "<table border=\"1\" class=\"dataframe\">\n",
       "  <thead>\n",
       "    <tr style=\"text-align: right;\">\n",
       "      <th></th>\n",
       "      <th>Opening</th>\n",
       "      <th>Opening.1</th>\n",
       "      <th>Title</th>\n",
       "      <th>Production company</th>\n",
       "      <th>Cast and crew</th>\n",
       "      <th>Ref.</th>\n",
       "    </tr>\n",
       "  </thead>\n",
       "  <tbody>\n",
       "    <tr>\n",
       "      <th>95</th>\n",
       "      <td>D E C E M B E R</td>\n",
       "      <td>25</td>\n",
       "      <td>We Can Be Heroes</td>\n",
       "      <td>Netflix / Troublemaker Studios / Double R Prod...</td>\n",
       "      <td>Robert Rodriguez (director/screenplay); Priyan...</td>\n",
       "      <td>[241]</td>\n",
       "    </tr>\n",
       "    <tr>\n",
       "      <th>96</th>\n",
       "      <td>D E C E M B E R</td>\n",
       "      <td>25</td>\n",
       "      <td>News of the World</td>\n",
       "      <td>Universal Pictures / Perfect World Pictures</td>\n",
       "      <td>Paul Greengrass (director/screenplay); Luke Da...</td>\n",
       "      <td>[242]</td>\n",
       "    </tr>\n",
       "    <tr>\n",
       "      <th>97</th>\n",
       "      <td>D E C E M B E R</td>\n",
       "      <td>25</td>\n",
       "      <td>One Night in Miami...</td>\n",
       "      <td>Amazon Studios</td>\n",
       "      <td>Regina King (director); Kemp Powers (screenpla...</td>\n",
       "      <td>[243]</td>\n",
       "    </tr>\n",
       "    <tr>\n",
       "      <th>98</th>\n",
       "      <td>D E C E M B E R</td>\n",
       "      <td>25</td>\n",
       "      <td>Promising Young Woman</td>\n",
       "      <td>Focus Features / FilmNation Entertainment</td>\n",
       "      <td>Emerald Fennell (director/screenplay); Carey M...</td>\n",
       "      <td>[244]</td>\n",
       "    </tr>\n",
       "    <tr>\n",
       "      <th>99</th>\n",
       "      <td>D E C E M B E R</td>\n",
       "      <td>30</td>\n",
       "      <td>Pieces of a Woman</td>\n",
       "      <td>Netflix / Bron Studios</td>\n",
       "      <td>Kornél Mundruczó (director); Kata Wéber (scree...</td>\n",
       "      <td>[245]</td>\n",
       "    </tr>\n",
       "  </tbody>\n",
       "</table>\n",
       "</div>"
      ],
      "text/plain": [
       "            Opening  Opening.1                  Title  \\\n",
       "95  D E C E M B E R         25       We Can Be Heroes   \n",
       "96  D E C E M B E R         25      News of the World   \n",
       "97  D E C E M B E R         25  One Night in Miami...   \n",
       "98  D E C E M B E R         25  Promising Young Woman   \n",
       "99  D E C E M B E R         30      Pieces of a Woman   \n",
       "\n",
       "                                   Production company  \\\n",
       "95  Netflix / Troublemaker Studios / Double R Prod...   \n",
       "96        Universal Pictures / Perfect World Pictures   \n",
       "97                                     Amazon Studios   \n",
       "98          Focus Features / FilmNation Entertainment   \n",
       "99                             Netflix / Bron Studios   \n",
       "\n",
       "                                        Cast and crew   Ref.  \n",
       "95  Robert Rodriguez (director/screenplay); Priyan...  [241]  \n",
       "96  Paul Greengrass (director/screenplay); Luke Da...  [242]  \n",
       "97  Regina King (director); Kemp Powers (screenpla...  [243]  \n",
       "98  Emerald Fennell (director/screenplay); Carey M...  [244]  \n",
       "99  Kornél Mundruczó (director); Kata Wéber (scree...  [245]  "
      ]
     },
     "execution_count": 34,
     "metadata": {},
     "output_type": "execute_result"
    }
   ],
   "source": [
    "df2020_4.tail()"
   ]
  },
  {
   "cell_type": "code",
   "execution_count": null,
   "metadata": {},
   "outputs": [
    {
     "name": "stderr",
     "output_type": "stream",
     "text": [
      "C:\\Users\\yagor\\AppData\\Local\\Temp\\ipykernel_9364\\37043138.py:1: FutureWarning: The frame.append method is deprecated and will be removed from pandas in a future version. Use pandas.concat instead.\n",
      "  df_2020 = df2020_1.append(df2020_2.append(df2020_3.append(df2020_4, ignore_index=True), ignore_index=True), ignore_index=True)\n"
     ]
    }
   ],
   "source": [
    "df_2020 = df2020_1.append(df2020_2.append(df2020_3.append(df2020_4, ignore_index=True), ignore_index=True), ignore_index=True)"
   ]
  },
  {
   "cell_type": "code",
   "execution_count": null,
   "metadata": {},
   "outputs": [],
   "source": [
    "df_2020 = df_2020.filter([\"Title\", \"Opening\"], axis = 1)"
   ]
  },
  {
   "cell_type": "code",
   "execution_count": null,
   "metadata": {},
   "outputs": [
    {
     "data": {
      "text/html": [
       "<div>\n",
       "<style scoped>\n",
       "    .dataframe tbody tr th:only-of-type {\n",
       "        vertical-align: middle;\n",
       "    }\n",
       "\n",
       "    .dataframe tbody tr th {\n",
       "        vertical-align: top;\n",
       "    }\n",
       "\n",
       "    .dataframe thead th {\n",
       "        text-align: right;\n",
       "    }\n",
       "</style>\n",
       "<table border=\"1\" class=\"dataframe\">\n",
       "  <thead>\n",
       "    <tr style=\"text-align: right;\">\n",
       "      <th></th>\n",
       "      <th>Title</th>\n",
       "      <th>Opening</th>\n",
       "    </tr>\n",
       "  </thead>\n",
       "  <tbody>\n",
       "    <tr>\n",
       "      <th>0</th>\n",
       "      <td>The Grudge</td>\n",
       "      <td>J A N U A R Y</td>\n",
       "    </tr>\n",
       "    <tr>\n",
       "      <th>1</th>\n",
       "      <td>Underwater</td>\n",
       "      <td>J A N U A R Y</td>\n",
       "    </tr>\n",
       "    <tr>\n",
       "      <th>2</th>\n",
       "      <td>Like a Boss</td>\n",
       "      <td>J A N U A R Y</td>\n",
       "    </tr>\n",
       "    <tr>\n",
       "      <th>3</th>\n",
       "      <td>Three Christs</td>\n",
       "      <td>J A N U A R Y</td>\n",
       "    </tr>\n",
       "    <tr>\n",
       "      <th>4</th>\n",
       "      <td>Inherit the Viper</td>\n",
       "      <td>J A N U A R Y</td>\n",
       "    </tr>\n",
       "  </tbody>\n",
       "</table>\n",
       "</div>"
      ],
      "text/plain": [
       "               Title        Opening\n",
       "0         The Grudge  J A N U A R Y\n",
       "1         Underwater  J A N U A R Y\n",
       "2        Like a Boss  J A N U A R Y\n",
       "3      Three Christs  J A N U A R Y\n",
       "4  Inherit the Viper  J A N U A R Y"
      ]
     },
     "execution_count": 37,
     "metadata": {},
     "output_type": "execute_result"
    }
   ],
   "source": [
    "df_2020.head()"
   ]
  },
  {
   "cell_type": "code",
   "execution_count": null,
   "metadata": {},
   "outputs": [
    {
     "data": {
      "text/plain": [
       "(275, 2)"
      ]
     },
     "execution_count": 38,
     "metadata": {},
     "output_type": "execute_result"
    }
   ],
   "source": [
    "df_2020.shape"
   ]
  },
  {
   "cell_type": "code",
   "execution_count": null,
   "metadata": {},
   "outputs": [],
   "source": [
    "def get_id_movie_2020 (title_movie):\n",
    "  result = tmdb_movie.search(title_movie)\n",
    "  try:\n",
    "   movie_id = result[0].id\n",
    "  except:\n",
    "   movie_id = -1 \n",
    "  return movie_id"
   ]
  },
  {
   "cell_type": "code",
   "execution_count": null,
   "metadata": {},
   "outputs": [],
   "source": [
    "df_2020[\"id\"] = df_2020[\"Title\"].map(lambda x: get_id_movie_2020(str(x)))"
   ]
  },
  {
   "cell_type": "code",
   "execution_count": null,
   "metadata": {},
   "outputs": [],
   "source": [
    "df_2020.drop(columns=[\"Opening\"], inplace=True)"
   ]
  },
  {
   "cell_type": "code",
   "execution_count": null,
   "metadata": {},
   "outputs": [],
   "source": [
    "df_2020.rename(columns={\"Title\": \"original_title\"}, inplace=True)"
   ]
  },
  {
   "attachments": {},
   "cell_type": "markdown",
   "metadata": {},
   "source": [
    "### Filmes de 2021"
   ]
  },
  {
   "cell_type": "code",
   "execution_count": null,
   "metadata": {},
   "outputs": [],
   "source": [
    "url_2021 = \"https://en.wikipedia.org/wiki/List_of_American_films_of_2021\""
   ]
  },
  {
   "cell_type": "code",
   "execution_count": null,
   "metadata": {},
   "outputs": [],
   "source": [
    "df2021_1 = pd.read_html(url_2021, header=0) [2]\n",
    "df2021_2 = pd.read_html(url_2021, header=0) [3]\n",
    "df2021_3 = pd.read_html(url_2021, header=0) [4]\n",
    "df2021_4 = pd.read_html(url_2021, header=0) [5]"
   ]
  },
  {
   "cell_type": "code",
   "execution_count": null,
   "metadata": {},
   "outputs": [
    {
     "data": {
      "text/html": [
       "<div>\n",
       "<style scoped>\n",
       "    .dataframe tbody tr th:only-of-type {\n",
       "        vertical-align: middle;\n",
       "    }\n",
       "\n",
       "    .dataframe tbody tr th {\n",
       "        vertical-align: top;\n",
       "    }\n",
       "\n",
       "    .dataframe thead th {\n",
       "        text-align: right;\n",
       "    }\n",
       "</style>\n",
       "<table border=\"1\" class=\"dataframe\">\n",
       "  <thead>\n",
       "    <tr style=\"text-align: right;\">\n",
       "      <th></th>\n",
       "      <th>Opening</th>\n",
       "      <th>Opening.1</th>\n",
       "      <th>Title</th>\n",
       "      <th>Production company</th>\n",
       "      <th>Cast and crew</th>\n",
       "      <th>Ref.</th>\n",
       "    </tr>\n",
       "  </thead>\n",
       "  <tbody>\n",
       "    <tr>\n",
       "      <th>93</th>\n",
       "      <td>D E C E M B E R</td>\n",
       "      <td>25.0</td>\n",
       "      <td>The Tragedy of Macbeth</td>\n",
       "      <td>Apple TV+ / A24 / IAC Films</td>\n",
       "      <td>Joel Coen (director/screenplay); Denzel Washin...</td>\n",
       "      <td>[273]</td>\n",
       "    </tr>\n",
       "    <tr>\n",
       "      <th>94</th>\n",
       "      <td>D E C E M B E R</td>\n",
       "      <td>25.0</td>\n",
       "      <td>A Journal for Jordan</td>\n",
       "      <td>Columbia Pictures / Escape Artists / Bron Studios</td>\n",
       "      <td>Denzel Washington (director); Virgil Williams ...</td>\n",
       "      <td>[274]</td>\n",
       "    </tr>\n",
       "    <tr>\n",
       "      <th>95</th>\n",
       "      <td>D E C E M B E R</td>\n",
       "      <td>25.0</td>\n",
       "      <td>American Underdog</td>\n",
       "      <td>Lionsgate</td>\n",
       "      <td>Erwin brothers (directors); Jon Erwin, David A...</td>\n",
       "      <td>[275]</td>\n",
       "    </tr>\n",
       "    <tr>\n",
       "      <th>96</th>\n",
       "      <td>D E C E M B E R</td>\n",
       "      <td>26.0</td>\n",
       "      <td>Memoria</td>\n",
       "      <td>Neon</td>\n",
       "      <td>Apichatpong Weerasethakul (director/acreenplay...</td>\n",
       "      <td>[276]</td>\n",
       "    </tr>\n",
       "    <tr>\n",
       "      <th>97</th>\n",
       "      <td>D E C E M B E R</td>\n",
       "      <td>NaN</td>\n",
       "      <td>NaN</td>\n",
       "      <td>NaN</td>\n",
       "      <td>NaN</td>\n",
       "      <td>NaN</td>\n",
       "    </tr>\n",
       "  </tbody>\n",
       "</table>\n",
       "</div>"
      ],
      "text/plain": [
       "            Opening  Opening.1                   Title  \\\n",
       "93  D E C E M B E R       25.0  The Tragedy of Macbeth   \n",
       "94  D E C E M B E R       25.0    A Journal for Jordan   \n",
       "95  D E C E M B E R       25.0       American Underdog   \n",
       "96  D E C E M B E R       26.0                 Memoria   \n",
       "97  D E C E M B E R        NaN                     NaN   \n",
       "\n",
       "                                   Production company  \\\n",
       "93                        Apple TV+ / A24 / IAC Films   \n",
       "94  Columbia Pictures / Escape Artists / Bron Studios   \n",
       "95                                          Lionsgate   \n",
       "96                                               Neon   \n",
       "97                                                NaN   \n",
       "\n",
       "                                        Cast and crew   Ref.  \n",
       "93  Joel Coen (director/screenplay); Denzel Washin...  [273]  \n",
       "94  Denzel Washington (director); Virgil Williams ...  [274]  \n",
       "95  Erwin brothers (directors); Jon Erwin, David A...  [275]  \n",
       "96  Apichatpong Weerasethakul (director/acreenplay...  [276]  \n",
       "97                                                NaN    NaN  "
      ]
     },
     "execution_count": 46,
     "metadata": {},
     "output_type": "execute_result"
    }
   ],
   "source": [
    "df2021_4.tail()"
   ]
  },
  {
   "cell_type": "code",
   "execution_count": null,
   "metadata": {},
   "outputs": [
    {
     "name": "stderr",
     "output_type": "stream",
     "text": [
      "C:\\Users\\yagor\\AppData\\Local\\Temp\\ipykernel_9364\\3074251534.py:1: FutureWarning: The frame.append method is deprecated and will be removed from pandas in a future version. Use pandas.concat instead.\n",
      "  df_2021 = df2021_1.append(df2021_2.append(df2021_3.append(df2021_4, ignore_index=True), ignore_index=True), ignore_index=True)\n"
     ]
    }
   ],
   "source": [
    "df_2021 = df2021_1.append(df2021_2.append(df2021_3.append(df2021_4, ignore_index=True), ignore_index=True), ignore_index=True)"
   ]
  },
  {
   "cell_type": "code",
   "execution_count": null,
   "metadata": {},
   "outputs": [],
   "source": [
    "df_2021 = df_2021.filter([\"Title\", \"Opening\"], axis = 1)"
   ]
  },
  {
   "cell_type": "code",
   "execution_count": null,
   "metadata": {},
   "outputs": [
    {
     "data": {
      "text/plain": [
       "(361, 2)"
      ]
     },
     "execution_count": 49,
     "metadata": {},
     "output_type": "execute_result"
    }
   ],
   "source": [
    "df_2021.shape"
   ]
  },
  {
   "cell_type": "code",
   "execution_count": null,
   "metadata": {},
   "outputs": [],
   "source": [
    "def get_id_movie_2021(title_movie):\n",
    "    result = tmdb_movie.search(title_movie)\n",
    "    movie_id = result[0].id\n",
    "    return movie_id"
   ]
  },
  {
   "cell_type": "code",
   "execution_count": null,
   "metadata": {},
   "outputs": [],
   "source": [
    "df_2021[\"id\"] = df_2021[\"Title\"].map(lambda x: get_id_movie_2021(str(x)))"
   ]
  },
  {
   "cell_type": "code",
   "execution_count": null,
   "metadata": {},
   "outputs": [],
   "source": [
    "df_2021.drop(columns=[\"Opening\"], inplace=True)"
   ]
  },
  {
   "cell_type": "code",
   "execution_count": null,
   "metadata": {},
   "outputs": [],
   "source": [
    "df_2021.rename(columns={\"Title\": \"original_title\"}, inplace=True)"
   ]
  },
  {
   "attachments": {},
   "cell_type": "markdown",
   "metadata": {},
   "source": [
    "### Filmes de 2022"
   ]
  },
  {
   "cell_type": "code",
   "execution_count": null,
   "metadata": {},
   "outputs": [],
   "source": [
    "url_2022 = \"https://en.wikipedia.org/wiki/List_of_American_films_of_2022\""
   ]
  },
  {
   "cell_type": "code",
   "execution_count": null,
   "metadata": {},
   "outputs": [],
   "source": [
    "df2022_1 = pd.read_html(url_2022, header=0) [2]\n",
    "df2022_2 = pd.read_html(url_2022, header=0) [3]\n",
    "df2022_3 = pd.read_html(url_2022, header=0) [4]\n",
    "df2022_4 = pd.read_html(url_2022, header=0) [5]\n",
    "df2022_5 = pd.read_html(url_2022, header=0) [6]"
   ]
  },
  {
   "cell_type": "code",
   "execution_count": null,
   "metadata": {},
   "outputs": [
    {
     "data": {
      "text/html": [
       "<div>\n",
       "<style scoped>\n",
       "    .dataframe tbody tr th:only-of-type {\n",
       "        vertical-align: middle;\n",
       "    }\n",
       "\n",
       "    .dataframe tbody tr th {\n",
       "        vertical-align: top;\n",
       "    }\n",
       "\n",
       "    .dataframe thead th {\n",
       "        text-align: right;\n",
       "    }\n",
       "</style>\n",
       "<table border=\"1\" class=\"dataframe\">\n",
       "  <thead>\n",
       "    <tr style=\"text-align: right;\">\n",
       "      <th></th>\n",
       "      <th>Opening</th>\n",
       "      <th>Opening.1</th>\n",
       "      <th>Title</th>\n",
       "      <th>Production company</th>\n",
       "      <th>Cast and crew</th>\n",
       "      <th>Ref.</th>\n",
       "    </tr>\n",
       "  </thead>\n",
       "  <tbody>\n",
       "    <tr>\n",
       "      <th>93</th>\n",
       "      <td>D E C E M B E R</td>\n",
       "      <td>30.0</td>\n",
       "      <td>A Man Called Otto</td>\n",
       "      <td>Columbia Pictures / Stage 6 Films / Playtone /...</td>\n",
       "      <td>Marc Forster (director), David Magee (screenpl...</td>\n",
       "      <td>[261]</td>\n",
       "    </tr>\n",
       "    <tr>\n",
       "      <th>94</th>\n",
       "      <td>D E C E M B E R</td>\n",
       "      <td>30.0</td>\n",
       "      <td>Alice, Darling</td>\n",
       "      <td>Lionsgate / Elevation Pictures</td>\n",
       "      <td>Mary Nighy (director); Alanna Francis (screenp...</td>\n",
       "      <td>[262]</td>\n",
       "    </tr>\n",
       "    <tr>\n",
       "      <th>95</th>\n",
       "      <td>D E C E M B E R</td>\n",
       "      <td>NaN</td>\n",
       "      <td>NaN</td>\n",
       "      <td>NaN</td>\n",
       "      <td>NaN</td>\n",
       "      <td>NaN</td>\n",
       "    </tr>\n",
       "    <tr>\n",
       "      <th>96</th>\n",
       "      <td>D E C E M B E R</td>\n",
       "      <td>NaN</td>\n",
       "      <td>NaN</td>\n",
       "      <td>NaN</td>\n",
       "      <td>NaN</td>\n",
       "      <td>NaN</td>\n",
       "    </tr>\n",
       "    <tr>\n",
       "      <th>97</th>\n",
       "      <td>D E C E M B E R</td>\n",
       "      <td>NaN</td>\n",
       "      <td>NaN</td>\n",
       "      <td>NaN</td>\n",
       "      <td>NaN</td>\n",
       "      <td>NaN</td>\n",
       "    </tr>\n",
       "    <tr>\n",
       "      <th>98</th>\n",
       "      <td>D E C E M B E R</td>\n",
       "      <td>NaN</td>\n",
       "      <td>NaN</td>\n",
       "      <td>NaN</td>\n",
       "      <td>NaN</td>\n",
       "      <td>NaN</td>\n",
       "    </tr>\n",
       "  </tbody>\n",
       "</table>\n",
       "</div>"
      ],
      "text/plain": [
       "            Opening  Opening.1              Title  \\\n",
       "93  D E C E M B E R       30.0  A Man Called Otto   \n",
       "94  D E C E M B E R       30.0     Alice, Darling   \n",
       "95  D E C E M B E R        NaN                NaN   \n",
       "96  D E C E M B E R        NaN                NaN   \n",
       "97  D E C E M B E R        NaN                NaN   \n",
       "98  D E C E M B E R        NaN                NaN   \n",
       "\n",
       "                                   Production company  \\\n",
       "93  Columbia Pictures / Stage 6 Films / Playtone /...   \n",
       "94                     Lionsgate / Elevation Pictures   \n",
       "95                                                NaN   \n",
       "96                                                NaN   \n",
       "97                                                NaN   \n",
       "98                                                NaN   \n",
       "\n",
       "                                        Cast and crew   Ref.  \n",
       "93  Marc Forster (director), David Magee (screenpl...  [261]  \n",
       "94  Mary Nighy (director); Alanna Francis (screenp...  [262]  \n",
       "95                                                NaN    NaN  \n",
       "96                                                NaN    NaN  \n",
       "97                                                NaN    NaN  \n",
       "98                                                NaN    NaN  "
      ]
     },
     "execution_count": 56,
     "metadata": {},
     "output_type": "execute_result"
    }
   ],
   "source": [
    "df2022_5.tail(6)"
   ]
  },
  {
   "cell_type": "code",
   "execution_count": null,
   "metadata": {},
   "outputs": [
    {
     "name": "stderr",
     "output_type": "stream",
     "text": [
      "C:\\Users\\yagor\\AppData\\Local\\Temp\\ipykernel_9364\\762255815.py:1: FutureWarning: The frame.append method is deprecated and will be removed from pandas in a future version. Use pandas.concat instead.\n",
      "  df_2022 = df2022_1.append(df2022_2.append(df2022_3.append(df2022_4.append(df2022_5, ignore_index=True), ignore_index=True), ignore_index=True), ignore_index=True)\n"
     ]
    }
   ],
   "source": [
    "df_2022 = df2022_1.append(df2022_2.append(df2022_3.append(df2022_4.append(df2022_5, ignore_index=True), ignore_index=True), ignore_index=True), ignore_index=True)"
   ]
  },
  {
   "cell_type": "code",
   "execution_count": null,
   "metadata": {},
   "outputs": [],
   "source": [
    "df_2022 = df_2022.filter([\"Title\", \"Opening\"], axis = 1)"
   ]
  },
  {
   "cell_type": "code",
   "execution_count": null,
   "metadata": {},
   "outputs": [
    {
     "data": {
      "text/plain": [
       "(340, 2)"
      ]
     },
     "execution_count": 59,
     "metadata": {},
     "output_type": "execute_result"
    }
   ],
   "source": [
    "df_2022.shape"
   ]
  },
  {
   "cell_type": "code",
   "execution_count": null,
   "metadata": {},
   "outputs": [],
   "source": [
    "def get_id_movie_2022(title_movie):\n",
    "    result = tmdb_movie.search(title_movie)\n",
    "    movie_id = result[0].id\n",
    "    return movie_id"
   ]
  },
  {
   "cell_type": "code",
   "execution_count": null,
   "metadata": {},
   "outputs": [],
   "source": [
    "df_2022[\"id\"] = df_2022[\"Title\"].map(lambda x: get_id_movie_2022(str(x)))"
   ]
  },
  {
   "cell_type": "code",
   "execution_count": null,
   "metadata": {},
   "outputs": [],
   "source": [
    "df_2022.drop(columns=[\"Opening\"], inplace=True)"
   ]
  },
  {
   "cell_type": "code",
   "execution_count": null,
   "metadata": {},
   "outputs": [],
   "source": [
    "df_2022.rename(columns={\"Title\": \"original_title\"}, inplace=True)"
   ]
  },
  {
   "attachments": {},
   "cell_type": "markdown",
   "metadata": {},
   "source": [
    "### Filmes de 2023"
   ]
  },
  {
   "cell_type": "code",
   "execution_count": null,
   "metadata": {},
   "outputs": [],
   "source": [
    "url_2023 = \"https://en.wikipedia.org/wiki/List_of_American_films_of_2023\""
   ]
  },
  {
   "cell_type": "code",
   "execution_count": null,
   "metadata": {},
   "outputs": [],
   "source": [
    "df2023_1 = pd.read_html(url_2023, header=0) [2]\n",
    "df2023_2 = pd.read_html(url_2023, header=0) [3]\n",
    "df2023_3 = pd.read_html(url_2023, header=0) [4]\n",
    "df2023_4 = pd.read_html(url_2023, header=0) [5]\n",
    "df2023_5 = pd.read_html(url_2023, header=0) [6]"
   ]
  },
  {
   "cell_type": "code",
   "execution_count": null,
   "metadata": {},
   "outputs": [
    {
     "data": {
      "text/html": [
       "<div>\n",
       "<style scoped>\n",
       "    .dataframe tbody tr th:only-of-type {\n",
       "        vertical-align: middle;\n",
       "    }\n",
       "\n",
       "    .dataframe tbody tr th {\n",
       "        vertical-align: top;\n",
       "    }\n",
       "\n",
       "    .dataframe thead th {\n",
       "        text-align: right;\n",
       "    }\n",
       "</style>\n",
       "<table border=\"1\" class=\"dataframe\">\n",
       "  <thead>\n",
       "    <tr style=\"text-align: right;\">\n",
       "      <th></th>\n",
       "      <th>Opening</th>\n",
       "      <th>Opening.1</th>\n",
       "      <th>Title</th>\n",
       "      <th>Studio</th>\n",
       "      <th>Cast and crew</th>\n",
       "      <th>Ref.</th>\n",
       "    </tr>\n",
       "  </thead>\n",
       "  <tbody>\n",
       "    <tr>\n",
       "      <th>12</th>\n",
       "      <td>D E C E M B E R</td>\n",
       "      <td>20</td>\n",
       "      <td>The Color Purple</td>\n",
       "      <td>Warner Bros. Pictures / Amblin Entertainment</td>\n",
       "      <td>Blitz Bazawule (director), Marcus Gardley (scr...</td>\n",
       "      <td>[89]</td>\n",
       "    </tr>\n",
       "    <tr>\n",
       "      <th>13</th>\n",
       "      <td>D E C E M B E R</td>\n",
       "      <td>20</td>\n",
       "      <td>Untitled Ghostbusters Afterlife sequel</td>\n",
       "      <td>Columbia Pictures / Bron Creative / Ghost Corps</td>\n",
       "      <td>Gil Kenan (director/screenplay); Jason Reitman...</td>\n",
       "      <td>[90]</td>\n",
       "    </tr>\n",
       "    <tr>\n",
       "      <th>14</th>\n",
       "      <td>D E C E M B E R</td>\n",
       "      <td>22</td>\n",
       "      <td>Migration</td>\n",
       "      <td>Universal Pictures / Illumination</td>\n",
       "      <td>Benjamin Renner (director); Mike White (screen...</td>\n",
       "      <td>[91]</td>\n",
       "    </tr>\n",
       "    <tr>\n",
       "      <th>15</th>\n",
       "      <td>D E C E M B E R</td>\n",
       "      <td>22</td>\n",
       "      <td>Rebel Moon</td>\n",
       "      <td>Netflix / The Stone Quarry / Grand Electric</td>\n",
       "      <td>Zack Snyder (director); Shay Hatten (screenpla...</td>\n",
       "      <td>NaN</td>\n",
       "    </tr>\n",
       "    <tr>\n",
       "      <th>16</th>\n",
       "      <td>D E C E M B E R</td>\n",
       "      <td>25</td>\n",
       "      <td>Aquaman and the Lost Kingdom</td>\n",
       "      <td>Warner Bros. Pictures / DC Studios / Atomic Mo...</td>\n",
       "      <td>James Wan (director); David Leslie Johnson-McG...</td>\n",
       "      <td>[30]</td>\n",
       "    </tr>\n",
       "  </tbody>\n",
       "</table>\n",
       "</div>"
      ],
      "text/plain": [
       "            Opening  Opening.1                                   Title  \\\n",
       "12  D E C E M B E R         20                        The Color Purple   \n",
       "13  D E C E M B E R         20  Untitled Ghostbusters Afterlife sequel   \n",
       "14  D E C E M B E R         22                               Migration   \n",
       "15  D E C E M B E R         22                              Rebel Moon   \n",
       "16  D E C E M B E R         25            Aquaman and the Lost Kingdom   \n",
       "\n",
       "                                               Studio  \\\n",
       "12       Warner Bros. Pictures / Amblin Entertainment   \n",
       "13    Columbia Pictures / Bron Creative / Ghost Corps   \n",
       "14                  Universal Pictures / Illumination   \n",
       "15        Netflix / The Stone Quarry / Grand Electric   \n",
       "16  Warner Bros. Pictures / DC Studios / Atomic Mo...   \n",
       "\n",
       "                                        Cast and crew  Ref.  \n",
       "12  Blitz Bazawule (director), Marcus Gardley (scr...  [89]  \n",
       "13  Gil Kenan (director/screenplay); Jason Reitman...  [90]  \n",
       "14  Benjamin Renner (director); Mike White (screen...  [91]  \n",
       "15  Zack Snyder (director); Shay Hatten (screenpla...   NaN  \n",
       "16  James Wan (director); David Leslie Johnson-McG...  [30]  "
      ]
     },
     "execution_count": 66,
     "metadata": {},
     "output_type": "execute_result"
    }
   ],
   "source": [
    "df2023_5.tail()"
   ]
  },
  {
   "cell_type": "code",
   "execution_count": null,
   "metadata": {},
   "outputs": [
    {
     "name": "stderr",
     "output_type": "stream",
     "text": [
      "C:\\Users\\yagor\\AppData\\Local\\Temp\\ipykernel_9364\\1956215484.py:1: FutureWarning: The frame.append method is deprecated and will be removed from pandas in a future version. Use pandas.concat instead.\n",
      "  df_2023 = df2023_1.append(df2023_2.append(df2023_3.append(df2023_4.append(df2023_5, ignore_index=True), ignore_index=True), ignore_index=True), ignore_index=True)\n"
     ]
    }
   ],
   "source": [
    "df_2023 = df2023_1.append(df2023_2.append(df2023_3.append(df2023_4.append(df2023_5, ignore_index=True), ignore_index=True), ignore_index=True), ignore_index=True)"
   ]
  },
  {
   "cell_type": "code",
   "execution_count": null,
   "metadata": {},
   "outputs": [],
   "source": [
    "df_2023 = df_2023.filter([\"Title\", \"Opening\"], axis = 1)"
   ]
  },
  {
   "cell_type": "code",
   "execution_count": null,
   "metadata": {},
   "outputs": [
    {
     "data": {
      "text/plain": [
       "(122, 2)"
      ]
     },
     "execution_count": 69,
     "metadata": {},
     "output_type": "execute_result"
    }
   ],
   "source": [
    "df_2023.shape"
   ]
  },
  {
   "cell_type": "code",
   "execution_count": null,
   "metadata": {},
   "outputs": [],
   "source": [
    "def get_id_movie_2023(title_movie):\n",
    "  result = tmdb_movie.search(title_movie)\n",
    "  try:\n",
    "    movie_id = result[0].id\n",
    "  except:\n",
    "    movie_id = -1\n",
    "    return movie_id"
   ]
  },
  {
   "cell_type": "code",
   "execution_count": null,
   "metadata": {},
   "outputs": [],
   "source": [
    "df_2023[\"id\"] = df_2023[\"Title\"].map(lambda x: get_id_movie_2023(str(x)))"
   ]
  },
  {
   "cell_type": "code",
   "execution_count": null,
   "metadata": {},
   "outputs": [],
   "source": [
    "df_2023.drop(columns=[\"Opening\"], inplace=True)"
   ]
  },
  {
   "cell_type": "code",
   "execution_count": null,
   "metadata": {},
   "outputs": [],
   "source": [
    "df_2023.rename(columns={\"Title\": \"original_title\"}, inplace=True)"
   ]
  },
  {
   "attachments": {},
   "cell_type": "markdown",
   "metadata": {},
   "source": [
    "### Concatenando os dados de cada ano"
   ]
  },
  {
   "cell_type": "code",
   "execution_count": null,
   "metadata": {},
   "outputs": [],
   "source": [
    "listas_dfs = [df_2018, df_2019, df_2020, df_2021, df_2022, df_2023]"
   ]
  },
  {
   "cell_type": "code",
   "execution_count": null,
   "metadata": {},
   "outputs": [],
   "source": [
    "dfs_concat = pd.concat(listas_dfs)"
   ]
  },
  {
   "cell_type": "code",
   "execution_count": null,
   "metadata": {},
   "outputs": [
    {
     "data": {
      "text/plain": [
       "(274, 2)"
      ]
     },
     "execution_count": 82,
     "metadata": {},
     "output_type": "execute_result"
    }
   ],
   "source": [
    "df_2018.shape"
   ]
  },
  {
   "cell_type": "code",
   "execution_count": null,
   "metadata": {},
   "outputs": [
    {
     "data": {
      "text/plain": [
       "(245, 2)"
      ]
     },
     "execution_count": 83,
     "metadata": {},
     "output_type": "execute_result"
    }
   ],
   "source": [
    "df_2019.shape"
   ]
  },
  {
   "cell_type": "code",
   "execution_count": null,
   "metadata": {},
   "outputs": [
    {
     "data": {
      "text/plain": [
       "(275, 2)"
      ]
     },
     "execution_count": 84,
     "metadata": {},
     "output_type": "execute_result"
    }
   ],
   "source": [
    "df_2020.shape"
   ]
  },
  {
   "cell_type": "code",
   "execution_count": null,
   "metadata": {},
   "outputs": [
    {
     "data": {
      "text/plain": [
       "(361, 2)"
      ]
     },
     "execution_count": 85,
     "metadata": {},
     "output_type": "execute_result"
    }
   ],
   "source": [
    "df_2021.shape"
   ]
  },
  {
   "cell_type": "code",
   "execution_count": null,
   "metadata": {},
   "outputs": [
    {
     "data": {
      "text/plain": [
       "(340, 2)"
      ]
     },
     "execution_count": 86,
     "metadata": {},
     "output_type": "execute_result"
    }
   ],
   "source": [
    "df_2022.shape"
   ]
  },
  {
   "cell_type": "code",
   "execution_count": null,
   "metadata": {},
   "outputs": [
    {
     "data": {
      "text/plain": [
       "(122, 2)"
      ]
     },
     "execution_count": 87,
     "metadata": {},
     "output_type": "execute_result"
    }
   ],
   "source": [
    "df_2023.shape"
   ]
  },
  {
   "cell_type": "code",
   "execution_count": null,
   "metadata": {},
   "outputs": [
    {
     "data": {
      "text/plain": [
       "(1617, 2)"
      ]
     },
     "execution_count": 81,
     "metadata": {},
     "output_type": "execute_result"
    }
   ],
   "source": [
    "dfs_concat.shape"
   ]
  },
  {
   "attachments": {},
   "cell_type": "markdown",
   "metadata": {},
   "source": [
    "### Juntando com os dados do Kaggle"
   ]
  },
  {
   "cell_type": "code",
   "execution_count": null,
   "metadata": {},
   "outputs": [],
   "source": []
  }
 ],
 "metadata": {
  "kernelspec": {
   "display_name": "myenv",
   "language": "python",
   "name": "python3"
  },
  "language_info": {
   "codemirror_mode": {
    "name": "ipython",
    "version": 3
   },
   "file_extension": ".py",
   "mimetype": "text/x-python",
   "name": "python",
   "nbconvert_exporter": "python",
   "pygments_lexer": "ipython3",
   "version": "3.10.8"
  },
  "orig_nbformat": 4,
  "vscode": {
   "interpreter": {
    "hash": "aaf9d55c72e52eda488ba0babbedf88081cff9461fcc3ca15a639bb0f83bc233"
   }
  }
 },
 "nbformat": 4,
 "nbformat_minor": 2
}
